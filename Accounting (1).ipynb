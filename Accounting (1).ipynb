{
 "cells": [
  {
   "cell_type": "markdown",
   "id": "36d4ef10",
   "metadata": {},
   "source": [
    "# This notebook was a personal project "
   ]
  },
  {
   "cell_type": "markdown",
   "id": "bc8fd16e",
   "metadata": {},
   "source": [
    "## The goal of the project was to make a calculator to quickly solve accounting problems in a unit revolving around discounts/allowances, credit discounts, and sales discounts"
   ]
  },
  {
   "cell_type": "code",
   "execution_count": 3,
   "id": "b8121e60",
   "metadata": {},
   "outputs": [],
   "source": [
    "def contraRev(revenue,discountedCredit,discountedSales,allowances):\n",
    "    return revenue-(discountedCredit+discountedSales)+(allowances)"
   ]
  },
  {
   "cell_type": "code",
   "execution_count": 4,
   "id": "c04288f7",
   "metadata": {},
   "outputs": [
    {
     "data": {
      "text/plain": [
       "270.0"
      ]
     },
     "execution_count": 4,
     "metadata": {},
     "output_type": "execute_result"
    }
   ],
   "source": [
    "contraRev(35000,(30000-((30000*.5)*.01)),(5000-(5000*.8)*.03),0)\n",
    "## this is good as a calculator of sorts but not really efficient\n"
   ]
  },
  {
   "cell_type": "markdown",
   "id": "e6cf4961",
   "metadata": {},
   "source": [
    "### can we make this more efficient?\n"
   ]
  },
  {
   "cell_type": "code",
   "execution_count": 5,
   "id": "106dad54",
   "metadata": {},
   "outputs": [],
   "source": [
    "def discountedCredit(credit,eligiblePercent,discountPercent):\n",
    "    return (credit-((credit*eligiblePercent)*discountPercent))\n"
   ]
  },
  {
   "cell_type": "code",
   "execution_count": 6,
   "id": "f91f011b",
   "metadata": {},
   "outputs": [
    {
     "data": {
      "text/plain": [
       "29850.0"
      ]
     },
     "execution_count": 6,
     "metadata": {},
     "output_type": "execute_result"
    }
   ],
   "source": [
    "discountedCredit(30000,.5,.01)"
   ]
  },
  {
   "cell_type": "code",
   "execution_count": 7,
   "id": "2244faf8",
   "metadata": {},
   "outputs": [],
   "source": [
    "def discountedSales(creditSales,eligiblePercentSales,discountPercentSales):\n",
    "    return (creditSales-((creditSales*eligiblePercentSales)*discountPercentSales))\n"
   ]
  },
  {
   "cell_type": "code",
   "execution_count": 8,
   "id": "d15f6158",
   "metadata": {},
   "outputs": [
    {
     "data": {
      "text/plain": [
       "4880.0"
      ]
     },
     "execution_count": 8,
     "metadata": {},
     "output_type": "execute_result"
    }
   ],
   "source": [
    "discountedSales(5000,.8,.03)"
   ]
  },
  {
   "cell_type": "code",
   "execution_count": 9,
   "id": "afbe3c0d",
   "metadata": {},
   "outputs": [],
   "source": [
    "def allowances(number_of_returns,dollar_per_return,other_allowances):\n",
    "    return (number_of_returns*dollar_per_return)+other_allowances"
   ]
  },
  {
   "cell_type": "code",
   "execution_count": 10,
   "id": "27791b49",
   "metadata": {},
   "outputs": [],
   "source": [
    "def credit_card_discounts(credit,discountedCredit):\n",
    "    return credit-discountedCredit"
   ]
  },
  {
   "cell_type": "code",
   "execution_count": 11,
   "id": "763eaf53",
   "metadata": {},
   "outputs": [],
   "source": [
    "def sales_discounts(credit_sales, sales_discount):\n",
    "    return credit_sales-sales_discount\n"
   ]
  },
  {
   "cell_type": "code",
   "execution_count": 12,
   "id": "beafcf27",
   "metadata": {},
   "outputs": [],
   "source": [
    "def returns_and_allowances(allowances_1):\n",
    "    return allowances_1*1"
   ]
  },
  {
   "cell_type": "code",
   "execution_count": 13,
   "id": "af97c44f",
   "metadata": {},
   "outputs": [],
   "source": [
    "import math"
   ]
  },
  {
   "cell_type": "code",
   "execution_count": 14,
   "id": "605b0c55",
   "metadata": {},
   "outputs": [],
   "source": [
    "def netSales(revenue_1, contraRev_1):\n",
    "    return (revenue_1 - contraRev_1)\n"
   ]
  },
  {
   "cell_type": "markdown",
   "id": "90be4f8f",
   "metadata": {},
   "source": [
    "### We need to make a function that can ask for the 6-7 inputs we have in this situation and return the net sales"
   ]
  },
  {
   "cell_type": "markdown",
   "id": "401bd3d3",
   "metadata": {},
   "source": [
    "#### This first one is just the first try, defining functions then asking for inputs in the place of each variable does not work"
   ]
  },
  {
   "cell_type": "code",
   "execution_count": 15,
   "id": "67199ce6",
   "metadata": {},
   "outputs": [
    {
     "ename": "SyntaxError",
     "evalue": "invalid syntax. Maybe you meant '==' or ':=' instead of '='? (811941105.py, line 10)",
     "output_type": "error",
     "traceback": [
      "\u001b[1;36m  Cell \u001b[1;32mIn[15], line 10\u001b[1;36m\u001b[0m\n\u001b[1;33m    netSales((revenue=float(input(\"Enter revenue: \"))),(discountedCredit((credit=float(input(\"Enter credit: \"))),(eligiblePercent=float(input(\"Enter eligible percent of credit: \"))),(discountPercent=float(input(\"Enter the percent of the discount: \"))))),(discountedSales((creditSales=float(input(\"Enter credit for sales: \"))),(eligiblePercentSales=float(input(\"Enter eligible percent of credit for sales\"))),(discountPercentSales=float(input(\"Enter the percent of the discount for sales\"))))))\u001b[0m\n\u001b[1;37m              ^\u001b[0m\n\u001b[1;31mSyntaxError\u001b[0m\u001b[1;31m:\u001b[0m invalid syntax. Maybe you meant '==' or ':=' instead of '='?\n"
     ]
    }
   ],
   "source": [
    "## trying to ask for inputs for each variable, they are floats apperantly, \n",
    "def netSales(revenue,discountedCredit,discountedSales):\n",
    "    return revenue-(discountedCredit+discountedSales)\n",
    "def discountedCredit(credit,eligiblePercent,discountPercent):\n",
    "    return (credit-((credit*eligiblePercent)*discountPercent))\n",
    "def discountedSales(creditSales,eligiblePercentSales,discountPercentSales):\n",
    "    return (creditSales-((creditSales*eligiblePercentSales)*discountPercentSales))\n",
    "\n",
    "\n",
    "netSales((revenue=float(input(\"Enter revenue: \"))),(discountedCredit((credit=float(input(\"Enter credit: \"))),(eligiblePercent=float(input(\"Enter eligible percent of credit: \"))),(discountPercent=float(input(\"Enter the percent of the discount: \"))))),(discountedSales((creditSales=float(input(\"Enter credit for sales: \"))),(eligiblePercentSales=float(input(\"Enter eligible percent of credit for sales\"))),(discountPercentSales=float(input(\"Enter the percent of the discount for sales\"))))))\n",
    "# this didn't work "
   ]
  },
  {
   "cell_type": "markdown",
   "id": "3c10a16a",
   "metadata": {},
   "source": [
    "#### This is another iteration, it works and is equipped to handle credit card discounts and sales discounts"
   ]
  },
  {
   "cell_type": "code",
   "execution_count": 16,
   "id": "e072ff54",
   "metadata": {},
   "outputs": [
    {
     "name": "stdout",
     "output_type": "stream",
     "text": [
      "Enter revenue: 0\n",
      "Enter credit: 0\n",
      "Enter eligible percent of credit: 0\n",
      "Enter the percent of the discount: 0\n",
      "Enter credit for sales: 0\n",
      "Enter eligible percent of credit for sales0\n",
      "Enter the percent of the discount for sales0\n",
      "Your net total contra revenues is:  0.0\n"
     ]
    }
   ],
   "source": [
    "## If you want the total contra revenues then this does the job\n",
    "### Yet to add sales and returns allowances\n",
    "revenue = float(input(\"Enter revenue: \"))\n",
    "credit = float(input(\"Enter credit: \"))\n",
    "eligible_percent_credit = float(input(\"Enter eligible percent of credit: \"))\n",
    "discount_percent = float(input(\"Enter the percent of the discount: \"))\n",
    "\n",
    "credit_sales = float(input(\"Enter credit for sales: \"))\n",
    "eligible_percent_sales = float(input(\"Enter eligible percent of credit for sales\"))\n",
    "discount_percent_sales = float(input(\"Enter the percent of the discount for sales\"))\n",
    "\n",
    "# Assuming discountedCredit and discountedSales are functions\n",
    "credit_discount = discountedCredit(credit, eligible_percent_credit, discount_percent)\n",
    "sales_discount = discountedSales(credit_sales, eligible_percent_sales, discount_percent_sales)\n",
    "\n",
    "print(\"Your net total contra revenues is: \",contraRev(revenue, credit_discount, sales_discount,0))\n"
   ]
  },
  {
   "cell_type": "markdown",
   "id": "b690508b",
   "metadata": {},
   "source": [
    "#### This is my improvised iteration of the same function with allowances added in"
   ]
  },
  {
   "cell_type": "code",
   "execution_count": 17,
   "id": "e56c6679",
   "metadata": {},
   "outputs": [
    {
     "name": "stdout",
     "output_type": "stream",
     "text": [
      "Enter revenue: 0\n",
      "Enter credit: 0\n",
      "Enter eligible percent of credit: 0\n",
      "Enter the percent of the discount: 0\n",
      "Enter credit for sales: 0\n",
      "Enter eligible percent of credit for sales0\n",
      "Enter the percent of the discount for sales0\n",
      "Enter number of returns: 0\n",
      "Enter dollars per return: 0\n",
      "Enter any other allowances, if none then enter 0: 0\n",
      "Your net total contra revenues is:  0.0\n"
     ]
    }
   ],
   "source": [
    "## If you want the total contra revenues then this does the job\n",
    "revenue = float(input(\"Enter revenue: \"))\n",
    "credit = float(input(\"Enter credit: \"))\n",
    "eligible_percent_credit = float(input(\"Enter eligible percent of credit: \"))\n",
    "discount_percent = float(input(\"Enter the percent of the discount: \"))\n",
    "\n",
    "credit_sales = float(input(\"Enter credit for sales: \"))\n",
    "eligible_percent_sales = float(input(\"Enter eligible percent of credit for sales\"))\n",
    "discount_percent_sales = float(input(\"Enter the percent of the discount for sales\"))\n",
    "\n",
    "number_of_returns = float(input(\"Enter number of returns: \"))\n",
    "dollar_per_return = float(input(\"Enter dollars per return: \"))\n",
    "other_allowances = float(input(\"Enter any other allowances, if none then enter 0: \"))\n",
    "\n",
    "# Assuming discountedCredit and discountedSales are functions\n",
    "credit_discount = discountedCredit(credit, eligible_percent_credit, discount_percent)\n",
    "sales_discount = discountedSales(credit_sales, eligible_percent_sales, discount_percent_sales)\n",
    "allowances_1 = allowances(number_of_returns, dollar_per_return, other_allowances)\n",
    "\n",
    "print(\"Your net total contra revenues is: \",contraRev(revenue, credit_discount, sales_discount, allowances_1))\n",
    "# it works, hallelujah\n"
   ]
  },
  {
   "cell_type": "markdown",
   "id": "d89252e8",
   "metadata": {},
   "source": [
    "### now let's try and print the specific numbers for each type of contra revenue"
   ]
  },
  {
   "cell_type": "code",
   "execution_count": 18,
   "id": "57be1b06",
   "metadata": {},
   "outputs": [
    {
     "name": "stdout",
     "output_type": "stream",
     "text": [
      "Enter revenue: 35000\n",
      "Enter credit: 30000\n",
      "Enter eligible percent of credit: .7\n",
      "Enter the percent of the discount: .01\n",
      "Enter credit for sales: 5000\n",
      "Enter eligible percent of credit for sales.8\n",
      "Enter the percent of the discount for sales.03\n",
      "Enter number of returns: 100\n",
      "Enter dollars per return: 2\n",
      "Enter any other allowances, if none then enter 0: 0\n",
      "Your net total contra revenues is:  530.0 \n",
      " Credit card discounts were:  210.0 \n",
      " Sales discounts were:  120.0 \n",
      " Sales returns and allowances were:  200.0\n"
     ]
    }
   ],
   "source": [
    "## If you want the total contra revenues then this does the job\n",
    "revenue = float(input(\"Enter revenue: \"))\n",
    "credit = float(input(\"Enter credit: \"))\n",
    "eligible_percent_credit = float(input(\"Enter eligible percent of credit: \"))\n",
    "discount_percent = float(input(\"Enter the percent of the discount: \"))\n",
    "\n",
    "credit_sales = float(input(\"Enter credit for sales: \"))\n",
    "eligible_percent_sales = float(input(\"Enter eligible percent of credit for sales: \"))\n",
    "discount_percent_sales = float(input(\"Enter the percent of the discount for sales: \"))\n",
    "\n",
    "number_of_returns = float(input(\"Enter number of returns: \"))\n",
    "dollar_per_return = float(input(\"Enter dollars per return: \"))\n",
    "other_allowances = float(input(\"Enter any other allowances, if none then enter 0: \"))\n",
    "\n",
    "def discountedCredit(credit,eligiblePercent,discountPercent):\n",
    "    return (credit-((credit*eligiblePercent)*discountPercent))\n",
    "\n",
    "# Assuming discountedCredit and discountedSales are functions\n",
    "credit_discount = discountedCredit(credit, eligible_percent_credit, discount_percent)\n",
    "sales_discount = discountedSales(credit_sales, eligible_percent_sales, discount_percent_sales)\n",
    "allowances_1 = allowances(number_of_returns, dollar_per_return, other_allowances)\n",
    "\n",
    "print(\"Your net total contra revenues is: \", contraRev(revenue, credit_discount, sales_discount, allowances_1), \"\\n\", \"Credit card discounts were: \", credit_card_discounts(credit,credit_discount), \"\\n\", \"Sales discounts were: \", sales_discounts(credit_sales,sales_discount), \"\\n\", \"Sales returns and allowances were: \", returns_and_allowances(allowances_1))\n",
    "# it works, hallelujah\n",
    "\n"
   ]
  },
  {
   "cell_type": "markdown",
   "id": "e9d8c0f2",
   "metadata": {},
   "source": [
    "### this is working well"
   ]
  },
  {
   "cell_type": "markdown",
   "id": "d3d6c16b",
   "metadata": {},
   "source": [
    "## this iteration takes the previous progress and uses it to report net sales\n",
    "\n",
    "### Additionally, definitions of functions and necessary imports have been put inside the kernel. This should prevent bugs"
   ]
  },
  {
   "cell_type": "code",
   "execution_count": 1,
   "id": "59e58785",
   "metadata": {
    "scrolled": true
   },
   "outputs": [
    {
     "name": "stdout",
     "output_type": "stream",
     "text": [
      "Please enter all values requested. All percent values must be expressed as decimals. If values are not applicable type 0\n",
      "Enter revenue: 20000\n",
      "Enter credit payments: 300\n",
      "Enter eligible percent of credit payments: 1\n",
      "Enter the percent of the discount: .03\n",
      "Enter credit for sales: 5000\n",
      "Enter eligible percent of credit for sales: 1\n",
      "Enter the percent of the discount for sales: .03\n",
      "Enter number of returns: 1\n",
      "Enter dollars per return: 1000\n",
      "Enter any other allowances, if none then enter 0: 0\n",
      "Your net total contra revenues is:  15859.0 \n",
      " Credit card discounts were:  9.0 \n",
      " Sales discounts were:  150.0 \n",
      " Sales returns and allowances were:  1000.0 \n",
      " Net Sales were:  4141.0\n",
      "Returns and allowances are at 5.00%\n"
     ]
    }
   ],
   "source": [
    "## If you want the total contra revenues then this does the job\n",
    "\n",
    "## Printing instructions\n",
    "print(\"Please enter all values requested. All percent values must be expressed as decimals. If values are not applicable type 0\")\n",
    "\n",
    "## need to define the needed functions\n",
    "import math\n",
    "def contraRev(revenue,discountedCredit,discountedSales,allowances):\n",
    "    return revenue-(discountedCredit+discountedSales)+(allowances)\n",
    "def discountedCredit(credit,eligiblePercent,discountPercent):\n",
    "    return (credit-((credit*eligiblePercent)*discountPercent))\n",
    "def discountedSales(creditSales,eligiblePercentSales,discountPercentSales):\n",
    "    return (creditSales-((creditSales*eligiblePercentSales)*discountPercentSales))\n",
    "def allowances(number_of_returns,dollar_per_return,other_allowances):\n",
    "    return (number_of_returns*dollar_per_return)+other_allowances\n",
    "def credit_card_discounts(credit,discountedCredit):\n",
    "    return credit-discountedCredit\n",
    "def sales_discounts(credit_sales, sales_discount):\n",
    "    return credit_sales-sales_discount\n",
    "def returns_and_allowances(allowances_1):\n",
    "    return allowances_1*1\n",
    "def netSales(revenue_1, contraRev_1):\n",
    "    return (revenue_1 - contraRev_1)\n",
    "def r_and_e_percent(part,whole):\n",
    "    return (part/whole)*100\n",
    "\n",
    "## Taking necessary inputs\n",
    "revenue = float(input(\"Enter revenue: \"))\n",
    "credit = float(input(\"Enter credit payments: \"))\n",
    "eligible_percent_credit = float(input(\"Enter eligible percent of credit payments: \"))\n",
    "discount_percent = float(input(\"Enter the percent of the discount: \"))\n",
    "\n",
    "credit_sales = float(input(\"Enter credit for sales: \"))\n",
    "eligible_percent_sales = float(input(\"Enter eligible percent of credit for sales: \"))\n",
    "discount_percent_sales = float(input(\"Enter the percent of the discount for sales: \"))\n",
    "\n",
    "number_of_returns = float(input(\"Enter number of returns: \"))\n",
    "dollar_per_return = float(input(\"Enter dollars per return: \"))\n",
    "other_allowances = float(input(\"Enter any other allowances, if none then enter 0: \"))\n",
    "\n",
    "# Assuming discountedCredit and discountedSales are functions\n",
    "credit_discount = discountedCredit(credit, eligible_percent_credit, discount_percent)\n",
    "sales_discount = discountedSales(credit_sales, eligible_percent_sales, discount_percent_sales)\n",
    "allowances_1 = allowances(number_of_returns, dollar_per_return, other_allowances)\n",
    "\n",
    "print(\"Your net total contra revenues is: \", contraRev(revenue, credit_discount, sales_discount, allowances_1), \"\\n\", \"Credit card discounts were: \", credit_card_discounts(credit,credit_discount), \"\\n\", \"Sales discounts were: \", sales_discounts(credit_sales,sales_discount), \"\\n\", \"Sales returns and allowances were: \", returns_and_allowances(allowances_1), \"\\n\", \"Net Sales were: \", netSales(revenue, contraRev(revenue, credit_discount, sales_discount, allowances_1)))\n",
    "# it works, hallelujah\n",
    "\n",
    "if r_and_e_percent(allowances_1,revenue) > 0.1:\n",
    "    print(\"Returns and allowances are at {:.2f}%\".format(r_and_e_percent(allowances_1,revenue)))\n",
    "\n"
   ]
  }
 ],
 "metadata": {
  "kernelspec": {
   "display_name": "Python 3 (ipykernel)",
   "language": "python",
   "name": "python3"
  },
  "language_info": {
   "codemirror_mode": {
    "name": "ipython",
    "version": 3
   },
   "file_extension": ".py",
   "mimetype": "text/x-python",
   "name": "python",
   "nbconvert_exporter": "python",
   "pygments_lexer": "ipython3",
   "version": "3.11.5"
  }
 },
 "nbformat": 4,
 "nbformat_minor": 5
}
